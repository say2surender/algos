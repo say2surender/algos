{
 "cells": [
  {
   "cell_type": "code",
   "execution_count": null,
   "metadata": {
    "collapsed": true
   },
   "outputs": [],
   "source": [
    "class node:\n",
    "    def __init__(self, key):\n",
    "        self.left = None\n",
    "        self.right = None\n",
    "        self.value = key    "
   ]
  },
  {
   "cell_type": "code",
   "execution_count": 14,
   "metadata": {
    "collapsed": true
   },
   "outputs": [],
   "source": [
    "node = {'value': 'A', \n",
    "        'left': \n",
    "                {\n",
    "                    \"value\": \"B\",\n",
    "                    \"left\": {\n",
    "                            \"value\": \"D\",\n",
    "                            \"left\": -1,\n",
    "                            \"right\": {\n",
    "                                    \"value\": \"H\",\n",
    "                                    \"left\": -1,\n",
    "                                    \"right\": -1,\n",
    "                                    }\n",
    "                            },\n",
    "                    \"right\": {\n",
    "                            \"value\": \"E\",\n",
    "                            \"left\": -1,\n",
    "                            \"right\": {\n",
    "                                    \"value\": \"F\",\n",
    "                                    \"left\": -1,\n",
    "                                    \"right\": -1,\n",
    "                                    },\n",
    "                              }\n",
    "                    },\n",
    "            \"right\": {\n",
    "                     \"value\": \"C\",\n",
    "                     \"left\": -1,\n",
    "                     \"right\": -1\n",
    "                    }\n",
    "       }"
   ]
  },
  {
   "cell_type": "code",
   "execution_count": 42,
   "metadata": {},
   "outputs": [
    {
     "data": {
      "text/plain": [
       "{'left': {'left': {'left': -1, 'right': -1, 'value': 'D'},\n",
       "  'right': {'left': -1,\n",
       "   'right': {'left': -1, 'right': -1, 'value': 'F'},\n",
       "   'value': 'E'},\n",
       "  'value': 'B'},\n",
       " 'right': {'left': -1, 'right': -1, 'value': 'C'},\n",
       " 'value': 'A'}"
      ]
     },
     "execution_count": 42,
     "metadata": {},
     "output_type": "execute_result"
    }
   ],
   "source": [
    "node"
   ]
  },
  {
   "cell_type": "code",
   "execution_count": 15,
   "metadata": {
    "collapsed": true
   },
   "outputs": [],
   "source": [
    "assert (node['left']['right'][\"value\"] == \"E\"), \"E is not in the correct position\"\n",
    "assert (node['left']['right']['right'][\"value\"] == \"F\"), \"E is not in the correct position\""
   ]
  },
  {
   "cell_type": "code",
   "execution_count": 34,
   "metadata": {
    "collapsed": true
   },
   "outputs": [],
   "source": [
    "def left_most_traversal(x):\n",
    "    if(x[\"value\"] != -1):\n",
    "        print(x[\"value\"])\n",
    "        if(x[\"left\"]!=-1):\n",
    "            printTree(x[\"left\"])"
   ]
  },
  {
   "cell_type": "code",
   "execution_count": 35,
   "metadata": {},
   "outputs": [
    {
     "name": "stdout",
     "output_type": "stream",
     "text": [
      "A\n",
      "B\n",
      "D\n"
     ]
    }
   ],
   "source": [
    "left_most_traversal(node)"
   ]
  },
  {
   "cell_type": "code",
   "execution_count": 53,
   "metadata": {},
   "outputs": [
    {
     "name": "stdout",
     "output_type": "stream",
     "text": [
      "D\n",
      "B\n",
      "A\n"
     ]
    }
   ],
   "source": [
    "def inverted_left_most_traversal(x):\n",
    "    if(x!=-1):\n",
    "        if(x[\"value\"] != -1):\n",
    "            if(x[\"left\"] != -1):\n",
    "                inverted_left_most_traversal(x[\"left\"])\n",
    "            print(x[\"value\"])\n",
    "\n",
    "inverted_left_most_traversal(node)"
   ]
  },
  {
   "cell_type": "code",
   "execution_count": 54,
   "metadata": {
    "collapsed": true
   },
   "outputs": [],
   "source": [
    "inverted_left_most_traversal(node[\"left\"][\"left\"][\"left\"])"
   ]
  },
  {
   "cell_type": "code",
   "execution_count": 62,
   "metadata": {},
   "outputs": [
    {
     "name": "stdout",
     "output_type": "stream",
     "text": [
      "D\n",
      "F\n",
      "C\n"
     ]
    }
   ],
   "source": [
    "def leaf_nodes_lr(x):\n",
    "    if(x==-1):\n",
    "        return(\"Gimme a tree!\")\n",
    "    if(x[\"value\"] != -1):\n",
    "        if(x[\"left\"]!=-1):\n",
    "            leaf_nodes_lr(x[\"left\"])\n",
    "        if(x[\"right\"]!=-1):\n",
    "            leaf_nodes_lr(x[\"right\"])\n",
    "        if (x[\"left\"] == -1) and (x[\"right\"] == -1):\n",
    "            print(x[\"value\"])            \n",
    "            \n",
    "leaf_nodes_lr(node)"
   ]
  },
  {
   "cell_type": "code",
   "execution_count": null,
   "metadata": {
    "collapsed": true
   },
   "outputs": [],
   "source": [
    "def level_order_traversal(x):\n",
    "    if(x==-1):\n",
    "        return(\"Gimme a tree!\")\n",
    "    if(x[\"value\"]!=-1):\n",
    "        print(x[\"value\"])\n",
    "        print(x[\"left\"][\"value\"])\n",
    "        print(x[\"right\"][\"value\"])\n",
    "        if(x[\"left\"]!=-1):\n",
    "            hierarchial_traversal(x[\"left\"])\n",
    "        if(x[\"right\"]!=-1):\n",
    "            hierarchial_traversal(x[\"right\"])"
   ]
  },
  {
   "cell_type": "code",
   "execution_count": 69,
   "metadata": {},
   "outputs": [
    {
     "name": "stdout",
     "output_type": "stream",
     "text": [
      "A\n",
      "B\n",
      "C\n",
      "D\n",
      "E\n",
      "F\n"
     ]
    }
   ],
   "source": [
    "import Queue as Q\n",
    "\n",
    "def level_order_traversal(q):\n",
    "    if(q.qsize()!=0):\n",
    "        temp = q.get() \n",
    "        print(temp[\"value\"])\n",
    "        putChild(temp, q)\n",
    "    \n",
    "def putChild(x, q):\n",
    "    if(x[\"left\"]!=-1):\n",
    "        q.put(x[\"left\"])\n",
    "    if(x[\"right\"]!=-1):\n",
    "        q.put(x[\"right\"])\n",
    "    level_order_traversal(q)\n",
    "        \n",
    "queue = Q.Queue()\n",
    "queue.put(node)\n",
    "level_order_traversal(queue)\n"
   ]
  },
  {
   "cell_type": "code",
   "execution_count": 17,
   "metadata": {},
   "outputs": [
    {
     "name": "stdout",
     "output_type": "stream",
     "text": [
      "A\n",
      "B\n",
      "C\n",
      "E\n",
      "D\n",
      "H\n",
      "F\n"
     ]
    }
   ],
   "source": [
    "def zig_zag_level_order(l, direc = False):\n",
    "    temp_l = []\n",
    "    for index in range(0,len(l)):\n",
    "        to_print = index if direc else -index-1 \n",
    "        print(l[to_print][\"value\"])\n",
    "        if(l[index][\"left\"]!=-1):\n",
    "            temp_l.append(l[index][\"left\"])\n",
    "        if(l[index][\"right\"]!=-1):\n",
    "            temp_l.append(l[index][\"right\"])\n",
    "    if temp_l:\n",
    "        zig_zag_level_order(temp_l, not direc)\n",
    "    \n",
    "zig_zag_level_order([node])"
   ]
  },
  {
   "cell_type": "code",
   "execution_count": 3,
   "metadata": {},
   "outputs": [
    {
     "data": {
      "text/plain": [
       "False"
      ]
     },
     "execution_count": 3,
     "metadata": {},
     "output_type": "execute_result"
    }
   ],
   "source": [
    "not True"
   ]
  }
 ],
 "metadata": {
  "kernelspec": {
   "display_name": "Python 2",
   "language": "python",
   "name": "python2"
  },
  "language_info": {
   "codemirror_mode": {
    "name": "ipython",
    "version": 2
   },
   "file_extension": ".py",
   "mimetype": "text/x-python",
   "name": "python",
   "nbconvert_exporter": "python",
   "pygments_lexer": "ipython2",
   "version": "2.7.13"
  }
 },
 "nbformat": 4,
 "nbformat_minor": 2
}
